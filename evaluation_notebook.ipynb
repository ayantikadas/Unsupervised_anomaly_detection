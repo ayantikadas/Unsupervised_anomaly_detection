{
 "cells": [
  {
   "cell_type": "code",
   "execution_count": 1,
   "id": "65cb0a26",
   "metadata": {
    "ExecuteTime": {
     "end_time": "2022-06-08T11:28:24.563458Z",
     "start_time": "2022-06-08T11:28:24.560171Z"
    }
   },
   "outputs": [],
   "source": [
    "import torch\n",
    "import sys\n",
    "import os\n",
    "import copy\n",
    "import numpy as np\n",
    "import glob\n",
    "from matplotlib import pyplot as plt\n",
    "from torchsummary import summary\n",
    "from torch.nn import functional as F\n",
    "from collections import namedtuple\n",
    "import mlflow\n",
    "from time import time\n",
    "from sklearn import manifold, datasets\n",
    "\n",
    "from torchvision import datasets, transforms, utils\n",
    "from skimage.draw import random_shapes\n",
    "\n",
    "from tqdm.notebook import tqdm\n",
    "import argparse\n",
    "from omegaconf import OmegaConf\n",
    "from monai.transforms import (\n",
    "    Orientationd, AddChanneld, Compose, ToTensord, Spacingd,Resized,ScaleIntensityD,ResizeWithPadOrCropd\n",
    "    # ScaleIntensityD, ScaleIntensityRangeD, AdjustContrastD, RandAffined, ToNumpyd,RepeatChannelD\n",
    ")\n",
    "from monai.data import Dataset\n",
    "import h5py\n",
    "sys.path.insert(0,'/media/htic/_srv_Data/Ayantika_codebase/')\n",
    "import utils.gauss_kernel as gauss_kernel_\n",
    "import models.pathology_track_models as ssae\n",
    "import trainer as trainer_class\n",
    "import datasets.slice_data_loader_h5 as sdl_h5\n",
    "import utils.gauss_kernel as gauss_kernel_\n",
    "from models.glow_model import Glow\n",
    "import models.BAUR_VAE as VAE_baseline\n",
    "import evaluation as eval_\n",
    "import models.ssae_KL_top_level as ssae_KL\n",
    "import utils.slice_view as slice_view\n",
    "# import models.LapSRN as Lapsrn"
   ]
  },
  {
   "cell_type": "code",
   "execution_count": 7,
   "id": "6333d766",
   "metadata": {},
   "outputs": [],
   "source": [
    "# !nvidia-smi"
   ]
  },
  {
   "cell_type": "code",
   "execution_count": 8,
   "id": "c8021e23",
   "metadata": {
    "ExecuteTime": {
     "end_time": "2022-06-08T11:28:35.817614Z",
     "start_time": "2022-06-08T11:28:35.815539Z"
    }
   },
   "outputs": [],
   "source": [
    "device = torch.device(\"cuda:0\" if torch.cuda.is_available() else \"cpu\")\n",
    "# device = 'cpu'\n"
   ]
  },
  {
   "cell_type": "markdown",
   "id": "619ea8f4",
   "metadata": {},
   "source": [
    "## Dataloader with h5 files (creation & loading)"
   ]
  },
  {
   "cell_type": "code",
   "execution_count": 9,
   "id": "85a74f1f",
   "metadata": {
    "ExecuteTime": {
     "end_time": "2022-05-30T11:02:29.850468Z",
     "start_time": "2022-05-30T11:02:29.827439Z"
    }
   },
   "outputs": [],
   "source": [
    "transforms1 = Compose(\n",
    "    [\n",
    "     AddChanneld(('image','label')),\n",
    "     Orientationd(('image','label'),'RAS'),\n",
    "#      Spacingd(('image','label'),(1,1,1)),        \n",
    "     Resized(keys = ('image'),spatial_size = (128, 128,-1),mode = 'trilinear' ,align_corners = True),\n",
    "     Resized(keys = ('label'),spatial_size = (128, 128,-1),mode = 'nearest' ),\n",
    "     ScaleIntensityD(('image',)),\n",
    "     ToTensord(('image','label')),\n",
    "    ]\n",
    ")\n"
   ]
  },
  {
   "cell_type": "code",
   "execution_count": 10,
   "id": "4a409c67",
   "metadata": {
    "ExecuteTime": {
     "end_time": "2022-06-08T11:28:43.773771Z",
     "start_time": "2022-06-08T11:28:43.765667Z"
    }
   },
   "outputs": [],
   "source": [
    "\n",
    "train_datapath_1 = '/media/htic/HD-B1/T2/IXI_colin/reg_n4_skl_strp/**.nii.gz'\n",
    "train_datapath_2 = '/media/htic/HD-B1/T2/camcan_colin/reg_n4_skl_strp/**.nii.gz'\n",
    "train_datapath_3 = '/media/htic/HD-B1/T2/HCP_colin/reg_n4_skl_strp/**.nii.gz'\n",
    "vol_file_ext = '.nii.gz'\n",
    "trainlist_1 = [{'image':x} for x in glob.glob(train_datapath_1) ][0:100]\n",
    "trainlist_2 = [{'image':x} for x in glob.glob(train_datapath_2) ][0:100]\n",
    "trainlist_3 = [{'image':x} for x in glob.glob(train_datapath_3) ][0:30]\n",
    "\n",
    "datalist = trainlist_1+trainlist_2+trainlist_3\n",
    "\n",
    "maskdir='/media/htic/_srv_Data/brain/brainmask.nii'\n",
    "mask_file_ext = 'mask.nii'\n",
    "masklist = [{'label':x} for x in glob.glob(maskdir)] * len(datalist)\n",
    "\n",
    "\n",
    "### The loader is such that it would create h5 files if they are not created when the loader is called and executed\n",
    "h5cachedir_ = '/media/htic/_srv_Data/brain/h5_data/training_T2'                                                                \n",
    "h5cacheds = sdl_h5.H5CachedDataset(datalist,masklist,transforms1,h5cachedir=h5cachedir_)\n",
    "torch.multiprocessing.set_sharing_strategy('file_system')\n",
    "train_loader = torch.utils.data.DataLoader(h5cacheds,batch_size = 210 ,\\\n",
    "                                           shuffle = False ,num_workers= 4)# ,pin_memory = True)\n"
   ]
  },
  {
   "cell_type": "code",
   "execution_count": 11,
   "id": "9dc7043a",
   "metadata": {
    "ExecuteTime": {
     "end_time": "2022-06-07T17:58:42.387424Z",
     "start_time": "2022-06-07T17:58:42.353779Z"
    }
   },
   "outputs": [],
   "source": [
    "val_datapath_1 = '/media/htic/HD-B1/T2/IXI_colin/reg_n4_skl_strp/**.nii.gz'\n",
    "val_datapath_2 = '/media/htic/HD-B1/T2/camcan_colin/reg_n4_skl_strp/**.nii.gz'\n",
    "\n",
    "trainlist_1 = [{'image':x} for x in glob.glob(val_datapath_1) ][150:200]\n",
    "trainlist_2 = [{'image':x} for x in glob.glob(val_datapath_2) ][150:200]\n",
    "\n",
    "datalist = trainlist_1+trainlist_2\n",
    "\n",
    "maskdir='/media/htic/_srv_Data/brain/brainmask.nii'\n",
    "masklist = [{'label':x} for x in glob.glob(maskdir)] * len(datalist)\n",
    "\n",
    "### The loader is such that it would create h5 files if they are not created when the loader is called and executed\n",
    "h5cachedir_ = '/media/htic/_srv_Data/brain/h5_data/valiadtion_T2'                                                                \n",
    "h5cacheds = sdl_h5.H5CachedDataset(datalist,masklist,transforms1,h5cachedir=h5cachedir_)\n",
    "torch.multiprocessing.set_sharing_strategy('file_system')\n",
    "val_loader = torch.utils.data.DataLoader(h5cacheds,batch_size = 210 ,\\\n",
    "                                           shuffle = False ,num_workers= 4)# ,pin_memory = True)\n"
   ]
  },
  {
   "cell_type": "code",
   "execution_count": null,
   "id": "53f7dd71",
   "metadata": {},
   "outputs": [],
   "source": []
  },
  {
   "cell_type": "code",
   "execution_count": 12,
   "id": "eaaaa742",
   "metadata": {},
   "outputs": [],
   "source": [
    "\n",
    "brats_datapath_1 = '/media/htic/_srv_Data/brain/BRATS_HGG_T2/**_t2.nii.gz'\n",
    "\n",
    "\n",
    "trainlist_1 = [{'image':x} for x in glob.glob(brats_datapath_1)]\n",
    "datalist = trainlist_1\n",
    "\n",
    "\n",
    "masklist = [{'label':x.split('_t2.nii.gz')[0]+'_seg.nii.gz'} for x in glob.glob(brats_datapath_1)]\n",
    "\n",
    "### The loader is such that it would create h5 files if they are not created when the loader is called and executed\n",
    "h5cachedir_ = '/media/htic/_srv_Data/brain/h5_data/BRATS_T2'                                                                \n",
    "h5cacheds = sdl_h5.H5CachedDataset(datalist,masklist,transforms1,h5cachedir=h5cachedir_)\n",
    "torch.multiprocessing.set_sharing_strategy('file_system')\n",
    "brats_loader = torch.utils.data.DataLoader(h5cacheds,batch_size = 210 ,\\\n",
    "                                           shuffle = False ,num_workers= 4)# ,pin_memory = True)\n"
   ]
  },
  {
   "cell_type": "code",
   "execution_count": null,
   "id": "fa816fc8",
   "metadata": {},
   "outputs": [],
   "source": []
  },
  {
   "cell_type": "markdown",
   "id": "21868480",
   "metadata": {},
   "source": [
    "## Noisy image creation"
   ]
  },
  {
   "cell_type": "code",
   "execution_count": 8,
   "id": "d2af2378",
   "metadata": {},
   "outputs": [],
   "source": [
    "# def impute_random_noise(slice_img):\n",
    "#     flag = True\n",
    "#     while flag:\n",
    "#         result = random_shapes((128, 128), max_shapes=1, shape='rectangle',\n",
    "#                                channel_axis=None, random_seed=np.random.randint(0,2000))\n",
    "#         shape_img = torch.tensor(((result[0]==255)==0))\n",
    "#         logic_ = torch.logical_and(slice_img>0,shape_img)\n",
    "#         if logic_.sum()>400 and logic_.any()==True:\n",
    "#             flag= False\n",
    "#         else:\n",
    "#             flag=True\n",
    "#     noisy_patch = torch.rand_like(slice_img)*logic_\n",
    "#     noisy_image = noisy_patch+(slice_img*(torch.logical_not(logic_)))\n",
    "        \n",
    "#     return noisy_image\n",
    "# index_list = np.linspace(20,180,5)\n",
    "# for i,batch in tqdm(enumerate(val_loader)):\n",
    "#     for indx_ in index_list:\n",
    "#         slice_img = batch['image'][int(indx_),0,:,:]\n",
    "#         noisy_image = impute_random_noise(slice_img)\n",
    "#         if indx_==20:\n",
    "#             batch_img = noisy_image.unsqueeze(dim=0)\n",
    "#         else:\n",
    "#             batch_img = torch.cat((batch_img,noisy_image.unsqueeze(dim=0)),dim=0)\n",
    "#     batch_imgs = batch_img.unsqueeze(dim=1)\n",
    "#     torch.save(batch_imgs,'/media/htic/_srv_Data/brain/pt_pertubed_validation_data/'+str(i).zfill(4)+'_batch_img.pt')\n",
    "    "
   ]
  },
  {
   "cell_type": "code",
   "execution_count": null,
   "id": "239d132f",
   "metadata": {},
   "outputs": [],
   "source": []
  },
  {
   "cell_type": "code",
   "execution_count": 2,
   "id": "53d517a5",
   "metadata": {},
   "outputs": [],
   "source": [
    "for i in range(0,100):\n",
    "    batch_img = torch.load('/media/htic/_srv_Data/brain/pt_pertubed_validation_data/00'+str(i).zfill(2)+'_batch_img.pt')\n",
    "    "
   ]
  },
  {
   "cell_type": "code",
   "execution_count": 9,
   "id": "fe1d7bac",
   "metadata": {},
   "outputs": [
    {
     "data": {
      "text/plain": [
       "<matplotlib.colorbar.Colorbar at 0x7f2fbd6a5130>"
      ]
     },
     "execution_count": 9,
     "metadata": {},
     "output_type": "execute_result"
    },
    {
     "data": {
      "image/png": "[encoded data removed]",
      "text/plain": [
       "<Figure size 432x288 with 2 Axes>"
      ]
     },
     "metadata": {
      "needs_background": "light"
     },
     "output_type": "display_data"
    }
   ],
   "source": [
    "plt.imshow(batch_img[1,0,:,:],cmap='gray')\n",
    "plt.colorbar()\n",
    "\n",
    "# torch.logical_and(shape_img,batch['label'][0,0,:,:])\n",
    "# random_shapes?"
   ]
  },
  {
   "cell_type": "markdown",
   "id": "3df200e3",
   "metadata": {},
   "source": [
    "### Arguments for GLOW"
   ]
  },
  {
   "cell_type": "code",
   "execution_count": 7,
   "id": "f01226d8",
   "metadata": {},
   "outputs": [],
   "source": [
    "parser = argparse.ArgumentParser(description=\"Glow trainer\")\n",
    "parser.add_argument(\"--batch\", default=5, type=int, help=\"batch size\")\n",
    "parser.add_argument(\"--epoch\", default=10, type=int, help=\"maximum iterations\")\n",
    "parser.add_argument(\n",
    "    \"--n_flow\", default=32, type=int, help=\"number of flows in each block\"\n",
    ")\n",
    "parser.add_argument(\"--n_block\", default=4, type=int, help=\"number of blocks\")\n",
    "parser.add_argument(\n",
    "    \"--no_lu\",\n",
    "    action=\"store_true\",\n",
    "    help=\"use plain convolution instead of LU decomposed version\",\n",
    ")\n",
    "parser.add_argument(\n",
    "    \"--affine\", action=\"store_true\", help=\"use affine coupling instead of additive\"\n",
    ")\n",
    "parser.add_argument(\"--n_bits\", default=5, type=int, help=\"number of bits\")\n",
    "parser.add_argument(\"--lr\", default=1e-4, type=float, help=\"learning rate\")\n",
    "parser.add_argument(\"--img_size\", default=128, type=int, help=\"image size\")\n",
    "parser.add_argument(\"--temp\", default=0.7, type=float, help=\"temperature of sampling\")\n",
    "parser.add_argument(\"--n_sample\", default=20, type=int, help=\"number of samples\")\n",
    "args = parser.parse_args('')\n",
    "args_dict = vars(args)\n",
    "\n",
    "conf_ = OmegaConf.create(args_dict)\n",
    "OmegaConf.save(config=conf_, f='./glow_args.yaml')\n",
    "OmegaConf.to_yaml(conf_)\n",
    "args= OmegaConf.load('./glow_args.yaml')\n",
    "\n"
   ]
  },
  {
   "cell_type": "code",
   "execution_count": 8,
   "id": "666e2017",
   "metadata": {},
   "outputs": [],
   "source": [
    "def calc_z_shapes(n_channel, input_size, n_flow, n_block):\n",
    "    z_shapes = []\n",
    "\n",
    "    for i in range(n_block - 1):\n",
    "        input_size //= 2\n",
    "        n_channel *= 2\n",
    "\n",
    "        z_shapes.append((n_channel, input_size, input_size))\n",
    "\n",
    "    input_size //= 2\n",
    "    z_shapes.append((n_channel * 4, input_size, input_size))\n",
    "\n",
    "    return z_shapes\n",
    "\n",
    "\n",
    "def calc_loss(log_p, logdet, image_size, n_bins):\n",
    "    # log_p = calc_log_p([z_list])\n",
    "#     n_pixel = image_size * image_size * 3\n",
    "    n_pixel = image_size * image_size * 1\n",
    "\n",
    "    loss = -log(n_bins) * n_pixel\n",
    "    loss = loss + logdet + log_p\n",
    "\n",
    "    return (\n",
    "        (-loss / (log(2) * n_pixel)).mean(),\n",
    "        (log_p / (log(2) * n_pixel)).mean(),\n",
    "        (logdet / (log(2) * n_pixel)).mean(),\n",
    "    )\n"
   ]
  },
  {
   "cell_type": "markdown",
   "id": "663aac64",
   "metadata": {},
   "source": [
    "## Models"
   ]
  },
  {
   "cell_type": "code",
   "execution_count": 11,
   "id": "1950f314",
   "metadata": {},
   "outputs": [],
   "source": [
    "################### GLOW ###############################\n",
    "\n",
    "model_single = Glow(\n",
    "        1, args.n_flow, args.n_block, affine=args.affine, conv_lu=not args.no_lu\n",
    "    )\n",
    "    \n",
    "model = torch.nn.DataParallel(model_single)\n",
    "# model = model_single\n",
    "\n",
    "\n",
    "weights_path = '/media/htic/_srv_Data/Research/MICCAI_Disentanglement/best_weights/model_000009.pth'\n",
    "model.load_state_dict(torch.load(weights_path))\n",
    "model = model.to(device)\n"
   ]
  },
  {
   "cell_type": "code",
   "execution_count": 13,
   "id": "eec5bad5",
   "metadata": {},
   "outputs": [],
   "source": [
    "VAE = VAE_baseline.Baur_VAE()\n",
    "# summary(VAE.to(device),(1,128,128))\n",
    "weights_path = '/srv/project/APW/Research/MICCAI_Disentanglement/mlruns/5/cfe0c37f82af452791f1ccf6ecf1a505/checkpoints/epoch_130.ckpt'\n",
    "VAE.load_state_dict(torch.load(weights_path))\n",
    "VAE = VAE.to(device)"
   ]
  },
  {
   "cell_type": "code",
   "execution_count": 45,
   "id": "b714b308",
   "metadata": {},
   "outputs": [],
   "source": [
    "\n",
    "disc_ = discriminator_.Discriminator(latent_dim=128)\n",
    "# summary(disc_.to(device),(1,1,128))\n",
    "VAE = VAE_baseline.Baur_VAE()\n",
    "# summary(VAE.to(device),(1,128,128))\n",
    "weight_ = '/media/htic/_srv_Data/Research/MICCAI_Disentanglement/best_weights/FactorVAE/checkpoints/epoch_25.ckpt'\n",
    "VAE.load_state_dict(torch.load(weight_))\n",
    "FactorVAE = VAE.to(device)"
   ]
  },
  {
   "cell_type": "code",
   "execution_count": 16,
   "id": "aff5cf15",
   "metadata": {},
   "outputs": [],
   "source": [
    "# ######### SSAE model #############\n",
    "gauss_kernel = gauss_kernel_.get_gaussian_kernel()\n",
    "AE0 = copy.deepcopy(ssae.custom_AE1(1,1))\n",
    "AE1 = copy.deepcopy(ssae.custom_AE1(1,1))\n",
    "AE2 = copy.deepcopy(ssae.custom_AE1(1,1))\n",
    "# device = 'cuda:0'\n",
    "model_ssae = ssae.model(AE0,AE1,AE2,gauss_kernel)\n",
    "model_ssae = model_ssae.to(device)\n",
    "# summary(model_ssae,(1,128,128))\n",
    "model_ssae = model_ssae.to(device)\n",
    "# print(model_ssae)\n",
    "# summary(model_ssae,(1,128,128))\n",
    "weights_path = '/media/htic/_srv_Data/Research/MICCAI_Disentanglement/mlruns/1/945bab50c6974a40b2e2e1abfc1a8ce2/checkpoints/best_epoch_57.ckpt'\n",
    "model_ssae.load_state_dict(torch.load(weights_path))\n",
    "model_ssae = model_ssae.to(device)"
   ]
  },
  {
   "cell_type": "code",
   "execution_count": 21,
   "id": "80de73cc",
   "metadata": {},
   "outputs": [
    {
     "data": {
      "application/vnd.jupyter.widget-view+json": {
       "model_id": "371b4bad6abd485f9c2fb61811b1008c",
       "version_major": 2,
       "version_minor": 0
      },
      "text/plain": [
       "  0%|          | 0/132 [00:00<?, ?it/s]"
      ]
     },
     "metadata": {},
     "output_type": "display_data"
    }
   ],
   "source": [
    "index_list = np.linspace(20,180,10)            \n",
    "with torch.no_grad():\n",
    "    for i,batch in enumerate(tqdm(brats_loader)):\n",
    "        image,label = batch['image'].to(device),batch['label'].to(device)\n",
    "        s = label.view(label.shape[0], -1).sum(dim = -1)\n",
    "        index_ = torch.nonzero(s==s.max())[0][0]\n",
    "        if index_+3>209:\n",
    "            index_=index_-3\n",
    "        elif index_-2<0:\n",
    "            index_=index_+2\n",
    "        else:\n",
    "            index_=index_\n",
    "        image = image[index_-2:index_+3,:,:,:]\n",
    "        label = label[index_-2:index_+3,:,:,:]\n",
    "        image = image*label\n",
    "        \n",
    "        model_output_ = model_ssae(image)\n",
    "        latent_space_1 = model_output_[-1]\n",
    "        if i==0:\n",
    "            latent_sapce_ssae_pathology = latent_space_1.unsqueeze(dim=0)\n",
    "            \n",
    "        else:\n",
    "            latent_sapce_ssae_pathology = torch.cat((latent_sapce_ssae_pathology,\\\n",
    "                                                  latent_space_1.unsqueeze(dim=0)),dim=0)\n",
    "        break"
   ]
  },
  {
   "cell_type": "code",
   "execution_count": 25,
   "id": "f792415a",
   "metadata": {},
   "outputs": [],
   "source": [
    "# plt.imshow(model_output_[0][1,0,:,:].detach().cpu(),cmap='gray')\n",
    "# model_output_[-1].view(-1,5,16*64)"
   ]
  },
  {
   "cell_type": "code",
   "execution_count": 54,
   "id": "3d7de2f8",
   "metadata": {},
   "outputs": [
    {
     "data": {
      "application/vnd.jupyter.widget-view+json": {
       "model_id": "a8517ae51c8a491c8cba45f5f4ca9bf3",
       "version_major": 2,
       "version_minor": 0
      },
      "text/plain": [
       "  0%|          | 0/100 [00:00<?, ?it/s]"
      ]
     },
     "metadata": {},
     "output_type": "display_data"
    },
    {
     "data": {
      "application/vnd.jupyter.widget-view+json": {
       "model_id": "7a173ef2f6b3433588355a69d0327b9d",
       "version_major": 2,
       "version_minor": 0
      },
      "text/plain": [
       "  0%|          | 0/132 [00:00<?, ?it/s]"
      ]
     },
     "metadata": {},
     "output_type": "display_data"
    },
    {
     "data": {
      "application/vnd.jupyter.widget-view+json": {
       "model_id": "4efd141725d94ea5a1d8fe27182fd29a",
       "version_major": 2,
       "version_minor": 0
      },
      "text/plain": [
       "  0%|          | 0/132 [00:00<?, ?it/s]"
      ]
     },
     "metadata": {},
     "output_type": "display_data"
    },
    {
     "data": {
      "application/vnd.jupyter.widget-view+json": {
       "model_id": "26d2e72f6e1f40b9893e48f095c9a337",
       "version_major": 2,
       "version_minor": 0
      },
      "text/plain": [
       "  0%|          | 0/100 [00:00<?, ?it/s]"
      ]
     },
     "metadata": {},
     "output_type": "display_data"
    }
   ],
   "source": [
    "index_list = np.linspace(20,180,5)\n",
    "\n",
    "with torch.no_grad():\n",
    "    for i,image in enumerate(tqdm(val_loader)):   \n",
    "        image = image['image'][index_list].to(device)\n",
    "        model_output_ = model_ssae(image)\n",
    "        latent_space_1 = model_output_[-1]\n",
    "        if i==0:\n",
    "            latent_sapce_ssae_normal = latent_space_1.unsqueeze(dim=0)\n",
    "            \n",
    "        else:\n",
    "            latent_sapce_ssae_normal = torch.cat((latent_sapce_ssae_normal,\\\n",
    "                                                  latent_space_1.unsqueeze(dim=0)),dim=0)\n",
    "            \n",
    "with torch.no_grad():\n",
    "    for i,image in enumerate(tqdm(brats_loader)):   \n",
    "        image = image['image'][index_list].to(device)\n",
    "        model_output_ = model_ssae(image)\n",
    "        latent_space_1 = model_output_[-1]\n",
    "        if i==0:\n",
    "            latent_sapce_ssae_brats = latent_space_1.unsqueeze(dim=0)\n",
    "            \n",
    "        else:\n",
    "            latent_sapce_ssae_brats = torch.cat((latent_sapce_ssae_brats,\\\n",
    "                                                  latent_space_1.unsqueeze(dim=0)),dim=0)\n",
    "            \n",
    "with torch.no_grad():\n",
    "    for i,batch in enumerate(tqdm(brats_loader)):\n",
    "        image,label = batch['image'].to(device),batch['label'].to(device)\n",
    "        s = label.view(label.shape[0], -1).sum(dim = -1)\n",
    "        index_ = torch.nonzero(s==s.max())[0][0]\n",
    "        if index_+3>209:\n",
    "            index_=index_-3\n",
    "        elif index_-2<0:\n",
    "            index_=index_+2\n",
    "        else:\n",
    "            index_=index_\n",
    "        image = image[index_-2:index_+3,:,:,:]\n",
    "        label = label[index_-2:index_+3,:,:,:]\n",
    "        image = image*label\n",
    "        \n",
    "        model_output_ = model_ssae(image)\n",
    "        latent_space_1 = model_output_[-1]\n",
    "        if i==0:\n",
    "            latent_sapce_ssae_pathology = latent_space_1.unsqueeze(dim=0)\n",
    "            \n",
    "        else:\n",
    "            latent_sapce_ssae_pathology = torch.cat((latent_sapce_ssae_pathology,\\\n",
    "                                                  latent_space_1.unsqueeze(dim=0)),dim=0)\n",
    "with torch.no_grad():\n",
    "    for i in tqdm(range(0,100)):\n",
    "        image = torch.load('/media/htic/_srv_Data/brain/pt_pertubed_validation_data/00'+str(i).zfill(2)+'_batch_img.pt')\n",
    "        model_output_ = model_ssae(image.to(device))\n",
    "        latent_space_1 = model_output_[-1]\n",
    "        if i==0:\n",
    "            latent_sapce_ssae_noisy = latent_space_1.unsqueeze(dim=0)\n",
    "            \n",
    "        else:\n",
    "            latent_sapce_ssae_noisy = torch.cat((latent_sapce_ssae_noisy,\\\n",
    "                                                  latent_space_1.unsqueeze(dim=0)),dim=0)"
   ]
  },
  {
   "cell_type": "code",
   "execution_count": 12,
   "id": "14d84786",
   "metadata": {},
   "outputs": [],
   "source": [
    "def normalize_(z_sample):\n",
    "    z_sample_=[]\n",
    "    z_sample_.append(z_sample[0]*(3/torch.abs(z_sample[0].max())))\n",
    "    z_sample_.append(z_sample[1]*(3/torch.abs(z_sample[1].max())))\n",
    "    z_sample_.append(z_sample[2]*(3/torch.abs(z_sample[2].max())))\n",
    "    z_sample_.append(z_sample[3]*(3/torch.abs(z_sample[3].max())))\n",
    "    return z_sample_"
   ]
  },
  {
   "cell_type": "code",
   "execution_count": 269,
   "id": "9ad58f50",
   "metadata": {},
   "outputs": [
    {
     "data": {
      "application/vnd.jupyter.widget-view+json": {
       "model_id": "345e89d7bde449b790199c0760bcd5aa",
       "version_major": 2,
       "version_minor": 0
      },
      "text/plain": [
       "  0%|          | 0/100 [00:00<?, ?it/s]"
      ]
     },
     "metadata": {},
     "output_type": "display_data"
    }
   ],
   "source": [
    "index_list = np.linspace(20,180,10)\n",
    "n_bins = 2.0 ** args.n_bits\n",
    "with torch.no_grad():\n",
    "    for i,image in enumerate(tqdm(val_loader)):   \n",
    "        image = image['image'][index_list].to(device)\n",
    "        image = image * 255\n",
    "\n",
    "        if args.n_bits < 8:\n",
    "            image = torch.floor(image / 2 ** (8 - args.n_bits))\n",
    "\n",
    "        image = image / n_bins - 0.5\n",
    "\n",
    "    \n",
    "        log_p, logdet, latent_space_unnorm = model(image + torch.rand_like(image) / n_bins)\n",
    "        \n",
    "        \n",
    "        \n",
    "        \n",
    "        latent_space_1 = normalize_(latent_space_unnorm)\n",
    "            \n",
    "        if i==0:\n",
    "            latent_sapce_0_glow_normal_10 = latent_space_1[0].view(-1,2*64*64).unsqueeze(dim=0)\n",
    "            latent_sapce_1_glow_normal_10 = latent_space_1[1].view(-1,4*32*32).unsqueeze(dim=0)\n",
    "            latent_sapce_2_glow_normal_10 = latent_space_1[2].view(-1,8*16*16).unsqueeze(dim=0)\n",
    "            latent_sapce_3_glow_normal_10 = latent_space_1[3].view(-1,32*8*8).unsqueeze(dim=0)\n",
    "        else:\n",
    "            latent_sapce_0_glow_normal_10 = torch.cat((latent_sapce_0_glow_normal_10,\\\n",
    "                                                  latent_space_1[0].view(-1,2*64*64).unsqueeze(dim=0)),dim=0)\n",
    "            latent_sapce_1_glow_normal_10 = torch.cat((latent_sapce_1_glow_normal_10,\\\n",
    "                                                  latent_space_1[1].view(-1,4*32*32).unsqueeze(dim=0)),dim=0)\n",
    "            latent_sapce_2_glow_normal_10 = torch.cat((latent_sapce_2_glow_normal_10,\\\n",
    "                                                  latent_space_1[2].view(-1,8*16*16).unsqueeze(dim=0)),dim=0)\n",
    "            latent_sapce_3_glow_normal_10 = torch.cat((latent_sapce_3_glow_normal_10,\\\n",
    "                                                  latent_space_1[3].view(-1,32*8*8).unsqueeze(dim=0)),dim=0)\n",
    "        \n",
    "\n"
   ]
  },
  {
   "cell_type": "code",
   "execution_count": 13,
   "id": "376ad69c",
   "metadata": {},
   "outputs": [
    {
     "data": {
      "application/vnd.jupyter.widget-view+json": {
       "model_id": "a4fc5b3567134293af9cb88c0da6ec01",
       "version_major": 2,
       "version_minor": 0
      },
      "text/plain": [
       "  0%|          | 0/100 [00:00<?, ?it/s]"
      ]
     },
     "metadata": {},
     "output_type": "display_data"
    }
   ],
   "source": [
    "\n",
    "\n",
    "index_list = np.linspace(20,180,5)\n",
    "n_bins = 2.0 ** args.n_bits\n",
    "with torch.no_grad():\n",
    "    for i in tqdm(range(0,100)):\n",
    "        image = torch.load('/media/htic/_srv_Data/brain/pt_pertubed_validation_data/00'+str(i).zfill(2)+'_batch_img.pt')\n",
    "    \n",
    "#     for i,image in enumerate(tqdm(val_loader)):   \n",
    "#         image = image['image'][index_list].to(device)\n",
    "        image = image * 255\n",
    "\n",
    "        if args.n_bits < 8:\n",
    "            image = torch.floor(image / 2 ** (8 - args.n_bits))\n",
    "\n",
    "        image = image / n_bins - 0.5\n",
    "\n",
    "    \n",
    "        log_p, logdet, latent_space_unnorm = model(image + torch.rand_like(image) / n_bins)      \n",
    "        \n",
    "        \n",
    "        \n",
    "        latent_space_1 = normalize_(latent_space_unnorm)\n",
    "        if i==0:\n",
    "            latent_sapce_0_glow_noisy = latent_space_1[0].view(-1,2*64*64).unsqueeze(dim=0)\n",
    "            latent_sapce_1_glow_noisy = latent_space_1[1].view(-1,4*32*32).unsqueeze(dim=0)\n",
    "            latent_sapce_2_glow_noisy = latent_space_1[2].view(-1,8*16*16).unsqueeze(dim=0)\n",
    "            latent_sapce_3_glow_noisy = latent_space_1[3].view(-1,32*8*8).unsqueeze(dim=0)\n",
    "        else:\n",
    "            latent_sapce_0_glow_noisy = torch.cat((latent_sapce_0_glow_noisy,\\\n",
    "                                                  latent_space_1[0].view(-1,2*64*64).unsqueeze(dim=0)),dim=0)\n",
    "            latent_sapce_1_glow_noisy = torch.cat((latent_sapce_1_glow_noisy,\\\n",
    "                                                  latent_space_1[1].view(-1,4*32*32).unsqueeze(dim=0)),dim=0)\n",
    "            latent_sapce_2_glow_noisy = torch.cat((latent_sapce_2_glow_noisy,\\\n",
    "                                                  latent_space_1[2].view(-1,8*16*16).unsqueeze(dim=0)),dim=0)\n",
    "            latent_sapce_3_glow_noisy = torch.cat((latent_sapce_3_glow_noisy,\\\n",
    "                                                  latent_space_1[3].view(-1,32*8*8).unsqueeze(dim=0)),dim=0)\n",
    "        \n",
    "\n"
   ]
  },
  {
   "cell_type": "code",
   "execution_count": 41,
   "id": "0fda6bef",
   "metadata": {},
   "outputs": [
    {
     "data": {
      "application/vnd.jupyter.widget-view+json": {
       "model_id": "d240696df9e544a69500068bfd26a04f",
       "version_major": 2,
       "version_minor": 0
      },
      "text/plain": [
       "  0%|          | 0/132 [00:00<?, ?it/s]"
      ]
     },
     "metadata": {},
     "output_type": "display_data"
    }
   ],
   "source": [
    "\n",
    "\n",
    "index_list = np.linspace(20,180,5)\n",
    "n_bins = 2.0 ** args.n_bits\n",
    "with torch.no_grad():\n",
    "    \n",
    "    for i,batch in enumerate(tqdm(brats_loader)):   \n",
    "        image,label = batch['image'],batch['label']\n",
    "        s = label.view(label.shape[0], -1).sum(dim = -1)\n",
    "        index_ = torch.nonzero(s==s.max())[0][0]\n",
    "        if index_+3>209:\n",
    "            index_=index_-3\n",
    "        elif index_-2<0:\n",
    "            index_=index_+2\n",
    "        else:\n",
    "            index_=index_\n",
    "        image = image[index_-2:index_+3,:,:,:]\n",
    "        label = label[index_-2:index_+3,:,:,:]\n",
    "        \n",
    "        image = image * 255\n",
    "\n",
    "        if args.n_bits < 8:\n",
    "            image = torch.floor(image / 2 ** (8 - args.n_bits))\n",
    "\n",
    "        image = image / n_bins - 0.5\n",
    "\n",
    "    \n",
    "        log_p, logdet, latent_space_unnorm = model(image + torch.rand_like(image) / n_bins)      \n",
    "        \n",
    "        \n",
    "        \n",
    "        latent_space_1 = normalize_(latent_space_unnorm)\n",
    "        if i==0:\n",
    "            latent_sapce_0_glow_brats = latent_space_1[0].view(-1,2*64*64).unsqueeze(dim=0)\n",
    "            latent_sapce_1_glow_brats = latent_space_1[1].view(-1,4*32*32).unsqueeze(dim=0)\n",
    "            latent_sapce_2_glow_brats = latent_space_1[2].view(-1,8*16*16).unsqueeze(dim=0)\n",
    "            latent_sapce_3_glow_brats = latent_space_1[3].view(-1,32*8*8).unsqueeze(dim=0)\n",
    "        else:\n",
    "            latent_sapce_0_glow_brats = torch.cat((latent_sapce_0_glow_brats,\\\n",
    "                                                  latent_space_1[0].view(-1,2*64*64).unsqueeze(dim=0)),dim=0)\n",
    "            latent_sapce_1_glow_brats = torch.cat((latent_sapce_1_glow_brats,\\\n",
    "                                                  latent_space_1[1].view(-1,4*32*32).unsqueeze(dim=0)),dim=0)\n",
    "            latent_sapce_2_glow_brats = torch.cat((latent_sapce_2_glow_brats,\\\n",
    "                                                  latent_space_1[2].view(-1,8*16*16).unsqueeze(dim=0)),dim=0)\n",
    "            latent_sapce_3_glow_brats = torch.cat((latent_sapce_3_glow_brats,\\\n",
    "                                                  latent_space_1[3].view(-1,32*8*8).unsqueeze(dim=0)),dim=0)\n",
    "        \n",
    "\n"
   ]
  },
  {
   "cell_type": "code",
   "execution_count": 47,
   "id": "0f70b106",
   "metadata": {},
   "outputs": [
    {
     "data": {
      "application/vnd.jupyter.widget-view+json": {
       "model_id": "a69ae59669a54f3e9d12ec12405b93cd",
       "version_major": 2,
       "version_minor": 0
      },
      "text/plain": [
       "  0%|          | 0/132 [00:00<?, ?it/s]"
      ]
     },
     "metadata": {},
     "output_type": "display_data"
    }
   ],
   "source": [
    "\n",
    "\n",
    "index_list = np.linspace(20,180,5)\n",
    "n_bins = 2.0 ** args.n_bits\n",
    "with torch.no_grad():\n",
    "    \n",
    "    for i,batch in enumerate(tqdm(brats_loader)):   \n",
    "        image,label = batch['image'],batch['label']\n",
    "        s = label.view(label.shape[0], -1).sum(dim = -1)\n",
    "        index_ = torch.nonzero(s==s.max())[0][0]\n",
    "        if index_+3>209:\n",
    "            index_=index_-3\n",
    "        elif index_-2<0:\n",
    "            index_=index_+2\n",
    "        else:\n",
    "            index_=index_\n",
    "        image = image[index_-2:index_+3,:,:,:]\n",
    "        label = label[index_-2:index_+3,:,:,:]\n",
    "        image = image*label\n",
    "        image = image * 255\n",
    "\n",
    "        if args.n_bits < 8:\n",
    "            image = torch.floor(image / 2 ** (8 - args.n_bits))\n",
    "\n",
    "        image = image / n_bins - 0.5\n",
    "\n",
    "    \n",
    "        log_p, logdet, latent_space_unnorm = model(image + torch.rand_like(image) / n_bins)      \n",
    "        \n",
    "        \n",
    "        \n",
    "        latent_space_1 = normalize_(latent_space_unnorm)\n",
    "        if i==0:\n",
    "            latent_sapce_0_glow_pathology = latent_space_1[0].view(-1,2*64*64).unsqueeze(dim=0)\n",
    "            latent_sapce_1_glow_pathology = latent_space_1[1].view(-1,4*32*32).unsqueeze(dim=0)\n",
    "            latent_sapce_2_glow_pathology = latent_space_1[2].view(-1,8*16*16).unsqueeze(dim=0)\n",
    "            latent_sapce_3_glow_pathology = latent_space_1[3].view(-1,32*8*8).unsqueeze(dim=0)\n",
    "        else:\n",
    "            latent_sapce_0_glow_pathology = torch.cat((latent_sapce_0_glow_pathology,\\\n",
    "                                                  latent_space_1[0].view(-1,2*64*64).unsqueeze(dim=0)),dim=0)\n",
    "            latent_sapce_1_glow_pathology = torch.cat((latent_sapce_1_glow_pathology,\\\n",
    "                                                  latent_space_1[1].view(-1,4*32*32).unsqueeze(dim=0)),dim=0)\n",
    "            latent_sapce_2_glow_pathology = torch.cat((latent_sapce_2_glow_pathology,\\\n",
    "                                                  latent_space_1[2].view(-1,8*16*16).unsqueeze(dim=0)),dim=0)\n",
    "            latent_sapce_3_glow_pathology = torch.cat((latent_sapce_3_glow_pathology,\\\n",
    "                                                  latent_space_1[3].view(-1,32*8*8).unsqueeze(dim=0)),dim=0)\n",
    "        \n",
    "        \n"
   ]
  },
  {
   "cell_type": "code",
   "execution_count": 47,
   "id": "3b44cf64",
   "metadata": {},
   "outputs": [
    {
     "data": {
      "application/vnd.jupyter.widget-view+json": {
       "model_id": "cea180c934b14581b92cea798fba3974",
       "version_major": 2,
       "version_minor": 0
      },
      "text/plain": [
       "  0%|          | 0/100 [00:00<?, ?it/s]"
      ]
     },
     "metadata": {},
     "output_type": "display_data"
    }
   ],
   "source": [
    "index_list = np.linspace(20,180,10)\n",
    "with torch.no_grad():\n",
    "    for i,image in enumerate(tqdm(val_loader)):   \n",
    "        image = image['image'][index_list].to(device)\n",
    "        model_output_ = FactorVAE(image)\n",
    "        latent_space_1 = model_output_[1]\n",
    "        if i==0:\n",
    "            latent_sapce_FactorVAE_normal_10 = latent_space_1.unsqueeze(dim=0)\n",
    "            \n",
    "        else:\n",
    "            latent_sapce_FactorVAE_normal_10 = torch.cat((latent_sapce_FactorVAE_normal_10,\\\n",
    "                                                  latent_space_1.unsqueeze(dim=0)),dim=0)\n",
    "            "
   ]
  },
  {
   "cell_type": "code",
   "execution_count": 49,
   "id": "267b84c1",
   "metadata": {},
   "outputs": [
    {
     "data": {
      "application/vnd.jupyter.widget-view+json": {
       "model_id": "de0040694b8144b5b7fed70ff2cb0d91",
       "version_major": 2,
       "version_minor": 0
      },
      "text/plain": [
       "  0%|          | 0/132 [00:00<?, ?it/s]"
      ]
     },
     "metadata": {},
     "output_type": "display_data"
    }
   ],
   "source": [
    "index_list = np.linspace(20,180,5)\n",
    "\n",
    "with torch.no_grad():\n",
    "    for i,image in enumerate(tqdm(val_loader)):   \n",
    "        image = image['image'][index_list].to(device)\n",
    "        model_output_ = FactorVAE(image)\n",
    "        latent_space_1 = model_output_[1]\n",
    "        if i==0:\n",
    "            latent_sapce_FactorVAE_normal = latent_space_1.unsqueeze(dim=0)\n",
    "            \n",
    "        else:\n",
    "            latent_sapce_FactorVAE_normal = torch.cat((latent_sapce_FactorVAE_normal,\\\n",
    "                                                  latent_space_1.unsqueeze(dim=0)),dim=0)\n",
    "            \n",
    "with torch.no_grad():\n",
    "    for i,image in enumerate(tqdm(brats_loader)):   \n",
    "        image = image['image'][index_list].to(device)\n",
    "        model_output_ = FactorVAE(image)\n",
    "        latent_space_1 = model_output_[1]\n",
    "        if i==0:\n",
    "            latent_sapce_FactorVAE_brats = latent_space_1.unsqueeze(dim=0)\n",
    "            \n",
    "        else:\n",
    "            latent_sapce_FactorVAE_brats = torch.cat((latent_sapce_FactorVAE_brats,\\\n",
    "                                                  latent_space_1.unsqueeze(dim=0)),dim=0)\n",
    "            \n",
    "with torch.no_grad():\n",
    "    for i,batch in enumerate(tqdm(brats_loader)):\n",
    "        image,label = batch['image'].to(device),batch['label'].to(device)\n",
    "        s = label.view(label.shape[0], -1).sum(dim = -1)\n",
    "        index_ = torch.nonzero(s==s.max())[0][0]\n",
    "        if index_+3>209:\n",
    "            index_=index_-3\n",
    "        elif index_-2<0:\n",
    "            index_=index_+2\n",
    "        else:\n",
    "            index_=index_\n",
    "        image = image[index_-2:index_+3,:,:,:]\n",
    "        label = label[index_-2:index_+3,:,:,:]\n",
    "        image = image*label\n",
    "        \n",
    "        model_output_ = FactorVAE(image)\n",
    "        latent_space_1 = model_output_[1]\n",
    "        if i==0:\n",
    "            latent_sapce_FactorVAE_pathology = latent_space_1.unsqueeze(dim=0)\n",
    "            \n",
    "        else:\n",
    "            latent_sapce_FactorVAE_pathology = torch.cat((latent_sapce_FactorVAE_pathology,\\\n",
    "                                                  latent_space_1.unsqueeze(dim=0)),dim=0)\n",
    "with torch.no_grad():\n",
    "    for i in tqdm(range(0,100)):\n",
    "        image = torch.load('/media/htic/_srv_Data/brain/pt_pertubed_validation_data/00'+str(i).zfill(2)+'_batch_img.pt')\n",
    "        model_output_ = FactorVAE(image.to(device))\n",
    "        latent_space_1 = model_output_[1]\n",
    "        if i==0:\n",
    "            latent_sapce_FactorVAE_noisy = latent_space_1.unsqueeze(dim=0)\n",
    "            \n",
    "        else:\n",
    "            latent_sapce_FactorVAE_noisy = torch.cat((latent_sapce_FactorVAE_noisy,\\\n",
    "                                                  latent_space_1.unsqueeze(dim=0)),dim=0)"
   ]
  },
  {
   "cell_type": "code",
   "execution_count": 14,
   "id": "204ca4f3",
   "metadata": {},
   "outputs": [],
   "source": [
    "\n",
    "latent_sapce_0_glow_pathology = torch.load('./latent_space/glow/latent_sapce_0_glow_pathology.pt')\n",
    "latent_sapce_0_glow_noisy = torch.load( './latent_space/glow/latent_sapce_0_glow_noisy.pt')\n",
    "\n",
    "latent_sapce_0_glow_normal = torch.load( './latent_space/glow/latent_sapce_0_glow_normal.pt')\n",
    "latent_sapce_0_glow_normal_10 = torch.load( './latent_space/glow/latent_sapce_0_glow_normal_10.pt')\n",
    "latent_sapce_0_glow_brats = torch.load('./latent_space/glow/latent_sapce_0_glow_brats.pt')\n",
    "\n",
    "# latent_sapce_1_glow_pathology = torch.save('./latent_space/glow/latent_sapce_1_glow_pathology.pt')\n",
    "\n",
    "\n",
    "# torch.save(, './latent_space/glow/latent_sapce_2_glow_pathology.pt')\n",
    "\n",
    "\n",
    "# torch.save(latent_sapce_3_glow_pathology, './latent_space/glow/latent_sapce_3_glow_pathology.pt')"
   ]
  },
  {
   "cell_type": "code",
   "execution_count": 31,
   "id": "de774899",
   "metadata": {},
   "outputs": [],
   "source": [
    "# './latent_space/VAE/'\n",
    "# latent_sapce_VAE_pathology = torch.load('./latent_space/glow/latent_sapce_0_glow_pathology.pt')\n",
    "# latent_sapce_VAE_noisy = torch.load( './latent_space/glow/latent_sapce_0_glow_noisy.pt')\n",
    "\n",
    "# latent_sapce_VAE_normal = torch.load( './latent_space/glow/latent_sapce_0_glow_normal.pt')\n",
    "# latent_sapce_VAE_normal_10 = torch.load( './latent_space/glow/latent_sapce_0_glow_normal_10.pt')\n",
    "# latent_sapce_VAE_brats = torch.load('./latent_space/glow/latent_sapce_0_glow_brats.pt')"
   ]
  },
  {
   "cell_type": "code",
   "execution_count": 52,
   "id": "568a3738",
   "metadata": {},
   "outputs": [],
   "source": [
    "# './latent_space/VAE/'\n",
    "torch.save(latent_sapce_FactorVAE_pathology,'./latent_space/FactorVAE/latent_sapce_FactorVAE_pathology.pt')\n",
    "torch.save( latent_sapce_FactorVAE_noisy,'./latent_space/FactorVAE/latent_sapce_FactorVAE_noisy.pt')\n",
    "\n",
    "torch.save( latent_sapce_FactorVAE_normal,'./latent_space/FactorVAE/latent_sapce_FactorVAE_normal.pt')\n",
    "torch.save(latent_sapce_FactorVAE_normal_10, './latent_space/FactorVAE/latent_sapce_FactorVAE_normal_10.pt')\n",
    "torch.save(latent_sapce_FactorVAE_brats,'./latent_space/FactorVAE/latent_sapce_FactorVAE_brats.pt')"
   ]
  },
  {
   "cell_type": "code",
   "execution_count": 56,
   "id": "24829e08",
   "metadata": {},
   "outputs": [],
   "source": [
    "torch.save(latent_sapce_ssae_pathology,'./latent_space/ssae/latent_sapce_ssae_pathology.pt')\n",
    "torch.save( latent_sapce_ssae_noisy,'./latent_space/ssae/latent_sapce_ssae_noisy.pt')\n",
    "\n",
    "torch.save( latent_sapce_ssae_normal,'./latent_space/ssae/latent_sapce_ssae_normal.pt')\n",
    "torch.save(latent_sapce_ssae_normal_10, './latent_space/ssae/latent_sapce_ssae_normal_10.pt')\n",
    "torch.save(latent_sapce_ssae_brats,'./latent_space/ssae/latent_sapce_ssae_brats.pt')"
   ]
  },
  {
   "cell_type": "code",
   "execution_count": 12,
   "id": "8e48d1b8",
   "metadata": {},
   "outputs": [],
   "source": [
    "patho = latent_sapce_0_glow_pathology.to('cpu').view(-1,latent_sapce_0_glow_pathology.shape[-1])\n",
    "normal = latent_sapce_0_glow_normal_10.to('cpu').view(-1,latent_sapce_0_glow_normal_10.shape[-1])\n",
    "\n",
    "noisy = latent_sapce_0_glow_noisy.to('cpu').view(-1,latent_sapce_0_glow_noisy.shape[-1])\n",
    "\n",
    "brats = latent_sapce_0_glow_brats.to('cpu').view(-1,latent_sapce_0_glow_brats.shape[-1])\n",
    "\n"
   ]
  },
  {
   "cell_type": "code",
   "execution_count": 96,
   "id": "2e6b67c1",
   "metadata": {},
   "outputs": [
    {
     "data": {
      "text/plain": [
       "660"
      ]
     },
     "execution_count": 96,
     "metadata": {},
     "output_type": "execute_result"
    }
   ],
   "source": [
    "len(patho)"
   ]
  },
  {
   "cell_type": "markdown",
   "id": "55bf1ba6",
   "metadata": {},
   "source": [
    "## Clustering"
   ]
  },
  {
   "cell_type": "code",
   "execution_count": null,
   "id": "cf8d4bc6",
   "metadata": {},
   "outputs": [],
   "source": [
    "# normal_label = np.zeros_like(normal.numpy())[:,0]\n",
    "# brats_label = np.ones_like(brats.numpy())[:,0]\n",
    "\n",
    "# noisy_label = (np.ones_like(noisy.numpy())*2)[:,0]\n",
    "# patho_label = (np.ones_like(patho.numpy())*3)[:,0]\n",
    "# X = torch.cat((normal,brats,noisy,patho),dim=0).numpy()\n",
    "# y = np.concatenate((normal_label,brats_label,noisy_label,patho_label),axis=0)\n",
    "# y = y.astype('int64')"
   ]
  },
  {
   "cell_type": "code",
   "execution_count": 20,
   "id": "678d293c",
   "metadata": {},
   "outputs": [],
   "source": [
    "noisy_label = np.zeros_like(noisy.numpy())[:,0]\n",
    "brats_label = np.ones_like(brats.numpy())[:,0]\n",
    "\n",
    "\n",
    "\n",
    "patho_label = (np.ones_like(patho.numpy())*2)[:,0]\n",
    "normal_label = (np.ones_like(normal.numpy())*3)[:,0]\n",
    "X = torch.cat((noisy,brats,patho,normal),dim=0).numpy()\n",
    "y = np.concatenate((noisy_label,brats_label,patho_label,normal_label),axis=0)\n",
    "y = y.astype('int64')"
   ]
  },
  {
   "cell_type": "code",
   "execution_count": 21,
   "id": "6a4b24ac",
   "metadata": {},
   "outputs": [],
   "source": [
    "n_samples, n_features = X.shape\n",
    "np.random.seed(0)"
   ]
  },
  {
   "cell_type": "code",
   "execution_count": null,
   "id": "f54b73fc",
   "metadata": {},
   "outputs": [],
   "source": []
  },
  {
   "cell_type": "code",
   "execution_count": 425,
   "id": "0aad9ade",
   "metadata": {},
   "outputs": [],
   "source": [
    "# Visualize the clustering\n",
    "def plot_clustering(X_red ,labels,title=None):\n",
    "    x_min, x_max = np.min(X_red, axis=0), np.max(X_red, axis=0)\n",
    "    X_red = (X_red - x_min) / (x_max - x_min)\n",
    "\n",
    "    plt.figure(figsize=(6, 4))\n",
    "    for digit,name in zip(np.array(range(0,4)),['brats','noisy','only Pathology','Normal']):\n",
    "        plt.scatter(\n",
    "            *X_red[y == digit].T,\n",
    "            marker=f\"${digit}$\",\n",
    "            s=50,\n",
    "#             c=plt.cm.nipy_spectral(labels[y == digit] / 4),\n",
    "            alpha=0.7,\n",
    "            label=f\"${name}$\"\n",
    "        )\n",
    "        plt.legend()\n",
    "\n",
    "    plt.xlabel('First embedded dimension')\n",
    "    plt.ylabel('Second embedded dimension')\n",
    "    if title is not None:\n",
    "        plt.title(title, size=12)\n",
    "#     plt.axis(\"off\")\n",
    "    plt.tight_layout(rect=[0, 0.03, 1, 0.95])\n",
    "    plt.legend()\n",
    "#     plt.savefig('./images_save/Spectral_embeddings_0_1_2_3.eps')\n",
    "# plot_clustering(X_red, \"Spectral Embeddings from GLOW\")"
   ]
  },
  {
   "cell_type": "code",
   "execution_count": 426,
   "id": "ec619c03",
   "metadata": {},
   "outputs": [],
   "source": [
    "# # Visualize the clustering\n",
    "# def plot_clustering(X_red ,labels,title=None):\n",
    "#     x_min, x_max = np.min(X_red, axis=0), np.max(X_red, axis=0)\n",
    "#     X_red = (X_red - x_min) / (x_max - x_min)\n",
    "\n",
    "#     plt.figure(figsize=(6, 4))\n",
    "#     for digit,name in zip(np.array(range(0,3)),['Noisy','brats','Normal']):\n",
    "#         plt.scatter(\n",
    "#             *X_red[y == digit].T,\n",
    "#             marker=f\"${digit}$\",\n",
    "#             s=50,\n",
    "# #             c=plt.cm.nipy_spectral(labels[y == digit] / 3),\n",
    "#             alpha=0.5,\n",
    "#             label=f\"${name}$\"\n",
    "#         )\n",
    "#         plt.legend()\n",
    "\n",
    "#     plt.xlabel('First embedded dimension')\n",
    "#     plt.ylabel('Second embedded dimension')\n",
    "#     if title is not None:\n",
    "#         plt.title(title, size=12)\n",
    "# #     plt.axis(\"off\")\n",
    "#     plt.tight_layout(rect=[0, 0.03, 1, 0.95])\n",
    "#     plt.legend()\n",
    "#     plt.savefig('./images_save/Spectral_embeddings_0_1_2.eps')\n",
    "# # plot_clustering(X_red, \"Spectral Embeddings from GLOW\")"
   ]
  },
  {
   "cell_type": "code",
   "execution_count": 427,
   "id": "e53df91f",
   "metadata": {},
   "outputs": [
    {
     "name": "stdout",
     "output_type": "stream",
     "text": [
      "Computing embedding\n",
      "Done.\n",
      "ward :\t0.03s\n"
     ]
    },
    {
     "data": {
      "image/png": "[encoded data removed]",
      "text/plain": [
       "<Figure size 432x288 with 1 Axes>"
      ]
     },
     "metadata": {
      "needs_background": "light"
     },
     "output_type": "display_data"
    }
   ],
   "source": [
    "print(\"Computing embedding\")\n",
    "X_red = manifold.SpectralEmbedding(n_components=2).fit_transform(X)\n",
    "print(\"Done.\")\n",
    "\n",
    "from sklearn.cluster import AgglomerativeClustering\n",
    "\n",
    "for linkage in (\"ward\", \"average\", \"complete\", \"single\"):\n",
    "    clustering = AgglomerativeClustering(linkage=linkage, n_clusters=4)\n",
    "    t0 = time()\n",
    "    clustering.fit(X_red)\n",
    "    print(\"%s :\\t%.2fs\" % (linkage, time() - t0))\n",
    "\n",
    "    plot_clustering(X_red, clustering.labels_, \"Spectral embeddings from latent space of GLOW\")\n",
    "    break"
   ]
  },
  {
   "cell_type": "code",
   "execution_count": 197,
   "id": "1c104dff",
   "metadata": {},
   "outputs": [
    {
     "name": "stdout",
     "output_type": "stream",
     "text": [
      "Computing embedding\n",
      "Done.\n",
      "ward :\t0.07s\n"
     ]
    },
    {
     "data": {
      "image/png": "[encoded data removed]",
      "text/plain": [
       "<Figure size 432x288 with 1 Axes>"
      ]
     },
     "metadata": {
      "needs_background": "light"
     },
     "output_type": "display_data"
    }
   ],
   "source": [
    "print(\"Computing embedding\")\n",
    "X_red = manifold.SpectralEmbedding(n_components=2).fit_transform(X)\n",
    "print(\"Done.\")\n",
    "\n",
    "from sklearn.cluster import AgglomerativeClustering\n",
    "\n",
    "for linkage in (\"ward\", \"average\", \"complete\", \"single\"):\n",
    "    clustering = AgglomerativeClustering(linkage=linkage, n_clusters=4)\n",
    "    t0 = time()\n",
    "    clustering.fit(X_red)\n",
    "    print(\"%s :\\t%.2fs\" % (linkage, time() - t0))\n",
    "\n",
    "    plot_clustering(X_red, clustering.labels_, \"Agglomerative Clustering of spectral embeddings from GLOW\")\n",
    "    break"
   ]
  },
  {
   "cell_type": "markdown",
   "id": "7d389f24",
   "metadata": {},
   "source": [
    "## Outlier score"
   ]
  },
  {
   "cell_type": "code",
   "execution_count": 90,
   "id": "a18c0722",
   "metadata": {},
   "outputs": [],
   "source": [
    "import numpy as np\n",
    "import matplotlib.pyplot as plt\n",
    "from sklearn.neighbors import LocalOutlierFactor\n",
    "\n",
    "np.random.seed(42)"
   ]
  },
  {
   "cell_type": "code",
   "execution_count": 123,
   "id": "e53ed667",
   "metadata": {},
   "outputs": [],
   "source": [
    "noisy_label = (np.ones_like(noisy.numpy())*-1)[:,0]\n",
    "brats_label = (np.ones_like(brats.numpy())*-1)[:,0]\n",
    "patho_label = (np.ones_like(patho.numpy())*-1)[:,0]\n",
    "normal_label = (np.ones_like(normal.numpy())*1)[:,0]\n",
    "X_all = torch.cat((noisy,brats,patho,normal),dim=0).numpy()\n",
    "\n",
    "y_all = np.concatenate((noisy_label,brats_label,patho_label,normal_label),axis=0)\n",
    "y_all = y_all.astype('int64')\n",
    "X = torch.cat((noisy[0:60],brats[0:60],patho[0:60],normal),dim=0).numpy()\n",
    "y = np.concatenate((noisy_label[0:60],brats_label[0:60],patho_label[0:60],normal_label),axis=0)\n",
    "y = y.astype('int64')"
   ]
  },
  {
   "cell_type": "code",
   "execution_count": 226,
   "id": "fcbfe17d",
   "metadata": {},
   "outputs": [],
   "source": [
    "\n",
    "X_spectral_all = X_all\n",
    "# manifold.SpectralEmbedding(n_components=2).fit_transform(X_all)\n",
    "X_spectral = X\n",
    "# manifold.SpectralEmbedding(n_components=2).fit_transform(X)\n",
    "clf = LocalOutlierFactor(n_neighbors=100, contamination=0.1)\n",
    "y_pred = clf.fit_predict(X_spectral)\n",
    "n_errors = (y_pred != y).sum()\n",
    "X_scores = clf.negative_outlier_factor_"
   ]
  },
  {
   "cell_type": "code",
   "execution_count": 199,
   "id": "a443b2dc",
   "metadata": {},
   "outputs": [
    {
     "data": {
      "text/plain": [
       "(array([False,  True]), array([ 63, 119]))"
      ]
     },
     "execution_count": 199,
     "metadata": {},
     "output_type": "execute_result"
    }
   ],
   "source": [
    "np.unique(y_pred[0:182] != y[0:182],return_counts=True)\n",
    "# np.where((y_pred[0:182] != y[0:182])==True)"
   ]
  },
  {
   "cell_type": "code",
   "execution_count": 209,
   "id": "d020857d",
   "metadata": {},
   "outputs": [],
   "source": []
  },
  {
   "cell_type": "code",
   "execution_count": 227,
   "id": "40b113ab",
   "metadata": {},
   "outputs": [],
   "source": [
    "clf.novelty=True\n",
    "X_scores_outliers = clf.score_samples(X_spectral_all[0:1000,:])\n",
    "\n",
    "X_scores = clf.score_samples(X_spectral)\n",
    "radius = X_scores\n",
    "# ((X_scores.max() - X_scores) / (X_scores.max() - X_scores.min()))\n",
    "radius_outlier = X_scores_outliers\n",
    "# (X_scores_outliers.max()-X_scores_outliers)/(X_scores_outliers.max()-X_scores_outliers.min())"
   ]
  },
  {
   "cell_type": "code",
   "execution_count": 228,
   "id": "007292e0",
   "metadata": {},
   "outputs": [
    {
     "data": {
      "text/plain": [
       "[<matplotlib.lines.Line2D at 0x7f8c39c252b0>]"
      ]
     },
     "execution_count": 228,
     "metadata": {},
     "output_type": "execute_result"
    },
    {
     "data": {
      "image/png": "[encoded data removed]",
      "text/plain": [
       "<Figure size 432x288 with 1 Axes>"
      ]
     },
     "metadata": {
      "needs_background": "light"
     },
     "output_type": "display_data"
    }
   ],
   "source": [
    "\n",
    "# radius = X_scores\n",
    "outlier_score = radius_outlier.round(3)\n",
    "plt.scatter(np.unique(outlier_score,return_counts=True)[0],np.unique(outlier_score,return_counts=True)[1])\n",
    "inlier_score = radius[182:len(X)].round(3)\n",
    "plt.scatter(np.unique(inlier_score,return_counts=True)[0],np.unique(inlier_score,return_counts=True)[1],alpha=0.5)\n",
    "\n",
    "plt.plot(np.unique(outlier_score,return_counts=True)[0],np.unique(outlier_score,return_counts=True)[1])\n",
    "# inlier_score = radius[182:len(X)].round(5)\n",
    "plt.plot(np.unique(inlier_score,return_counts=True)[0],np.unique(inlier_score,return_counts=True)[1],alpha=0.5)"
   ]
  },
  {
   "cell_type": "code",
   "execution_count": 233,
   "id": "d87c7fa3",
   "metadata": {},
   "outputs": [
    {
     "data": {
      "text/plain": [
       "[<matplotlib.lines.Line2D at 0x7f8c39886280>]"
      ]
     },
     "execution_count": 233,
     "metadata": {},
     "output_type": "execute_result"
    },
    {
     "data": {
      "image/png": "[encoded data removed]",
      "text/plain": [
       "<Figure size 432x288 with 1 Axes>"
      ]
     },
     "metadata": {
      "needs_background": "light"
     },
     "output_type": "display_data"
    }
   ],
   "source": [
    "x1,y1 = np.unique(np.abs(outlier_score),return_counts=True)\n",
    "x2,y2 = np.unique(np.abs(inlier_score),return_counts=True)\n",
    "\n",
    "plt.plot(x1,y1)\n",
    "plt.plot(x2,y2,alpha=0.5)\n"
   ]
  },
  {
   "cell_type": "code",
   "execution_count": 423,
   "id": "21b61525",
   "metadata": {},
   "outputs": [
    {
     "name": "stdout",
     "output_type": "stream",
     "text": [
      "prediction errors: 17.51% samples are misclassifed\n"
     ]
    },
    {
     "data": {
      "image/png": "[encoded data removed]",
      "text/plain": [
       "<Figure size 432x288 with 1 Axes>"
      ]
     },
     "metadata": {
      "needs_background": "light"
     },
     "output_type": "display_data"
    }
   ],
   "source": [
    "plt.title(\"Local Outlier Factors on the spectral embeddings\")\n",
    "\n",
    "plt.scatter(X_spectral[0:182, 0], X_spectral[0:182, 1], s=3.0, label=\"Outlier Data points\")\n",
    "plt.scatter(X_spectral[182:len(X), 0], X_spectral[182:len(X), 1], s=3.0, label=\"Inlier Data points\")\n",
    "# plot circles with radius proportional to the outlier scores\n",
    "radius = (X_scores.max() - X_scores) / (X_scores.max() - X_scores.min())\n",
    "plt.scatter(\n",
    "    X_spectral[:, 0],\n",
    "    X_spectral[:, 1],\n",
    "    s=1000 * radius,\n",
    "    edgecolors=\"r\",\n",
    "    facecolors=\"none\",\n",
    "    label=\"Outlier scores\",\n",
    ")\n",
    "\n",
    "plt.axis(\"tight\")\n",
    "# plt.xlim((-3, 3))\n",
    "plt.ylim((-0.015, 0.0175))\n",
    "print('prediction errors: '+str(((n_errors/len(X))*100).round(2))+'%'+' samples are misclassifed')\n",
    "# legend = plt.legend(loc=\"upper left\")\n",
    "# legend.legendHandles[0]._sizes = [10]\n",
    "# legend.legendHandles[1]._sizes = [20]\n",
    "# plt.show()\n",
    "plt.legend()\n",
    "plt.xlabel('First embedded dimension')\n",
    "plt.ylabel('Second embedded dimension')\n",
    "\n",
    "plt.savefig('./images_save/Spectral_embeddings_Lof.png')"
   ]
  },
  {
   "cell_type": "code",
   "execution_count": 392,
   "id": "7d19b4a8",
   "metadata": {},
   "outputs": [
    {
     "data": {
      "text/plain": [
       "0.1751269035532995"
      ]
     },
     "execution_count": 392,
     "metadata": {},
     "output_type": "execute_result"
    }
   ],
   "source": [
    "207/len(X)"
   ]
  },
  {
   "cell_type": "code",
   "execution_count": 15,
   "id": "3a48d8ee",
   "metadata": {},
   "outputs": [],
   "source": [
    "\n",
    "# torch.save(latent_sapce_0_glow_noisy, './latent_space/glow/latent_sapce_0_glow_noisy.pt')\n",
    "\n",
    "# torch.save(latent_sapce_1_glow_noisy, './latent_space/glow/latent_sapce_1_glow_noisy.pt')\n",
    "\n",
    "\n",
    "# torch.save(latent_sapce_2_glow_noisy, './latent_space/glow/latent_sapce_2_glow_noisy.pt')\n",
    "\n",
    "\n",
    "# torch.save(latent_sapce_3_glow_noisy, './latent_space/glow/latent_sapce_3_glow_noisy.pt')"
   ]
  },
  {
   "cell_type": "code",
   "execution_count": 270,
   "id": "85f13b25",
   "metadata": {},
   "outputs": [],
   "source": [
    "\n",
    "# torch.save( latent_sapce_0_glow_normal_10, './latent_space/glow/latent_sapce_0_glow_normal_10.pt')\n",
    "\n",
    "# torch.save(latent_sapce_1_glow_normal_10, './latent_space/glow/latent_sapce_1_glow_normal_10.pt')\n",
    "\n",
    "\n",
    "# torch.save(latent_sapce_2_glow_normal_10, './latent_space/glow/latent_sapce_2_glow_normal_10.pt')\n",
    "\n",
    "\n",
    "# torch.save(latent_sapce_3_glow_normal_10, './latent_space/glow/latent_sapce_3_glow_normal_10.pt')"
   ]
  },
  {
   "cell_type": "code",
   "execution_count": 53,
   "id": "a103d00e",
   "metadata": {},
   "outputs": [],
   "source": [
    "\n",
    "# latent_sapce_0_glow_brats = torch.load('./latent_space/glow/latent_sapce_0_glow_brats.pt')\n",
    "\n",
    "# torch.save(latent_sapce_1_glow_brats, './latent_space/glow/latent_sapce_1_glow_brats.pt')\n",
    "\n",
    "\n",
    "# torch.save(latent_sapce_2_glow_brats, './latent_space/glow/latent_sapce_2_glow_brats.pt')\n",
    "\n",
    "\n",
    "# torch.save(latent_sapce_3_glow_brats, './latent_space/glow/latent_sapce_3_glow_brats.pt')"
   ]
  },
  {
   "cell_type": "code",
   "execution_count": null,
   "id": "3ca0aa72",
   "metadata": {},
   "outputs": [],
   "source": []
  }
 ],
 "metadata": {
  "celltoolbar": "Raw Cell Format",
  "kernelspec": {
   "display_name": "Python 3 (ipykernel)",
   "language": "python",
   "name": "python3"
  },
  "language_info": {
   "codemirror_mode": {
    "name": "ipython",
    "version": 3
   },
   "file_extension": ".py",
   "mimetype": "text/x-python",
   "name": "python",
   "nbconvert_exporter": "python",
   "pygments_lexer": "ipython3",
   "version": "3.8.10"
  }
 },
 "nbformat": 4,
 "nbformat_minor": 5
}
